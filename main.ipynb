{
 "cells": [
  {
   "cell_type": "code",
   "execution_count": 3,
   "id": "fb0429e9",
   "metadata": {},
   "outputs": [
    {
     "name": "stdout",
     "output_type": "stream",
     "text": [
      "Warning: Looks like you're using an outdated `kagglehub` version, please consider updating (latest version: 0.3.12)\n",
      "Path to dataset files: C:\\Users\\sking\\.cache\\kagglehub\\datasets\\hojjatk\\mnist-dataset\\versions\\1\n"
     ]
    }
   ],
   "source": [
    "import kagglehub\n",
    "\n",
    "# Download latest version\n",
    "path = kagglehub.dataset_download(\"hojjatk/mnist-dataset\")\n",
    "\n",
    "\n",
    "print(\"Path to dataset files:\", path)"
   ]
  },
  {
   "cell_type": "code",
   "execution_count": 4,
   "id": "38097e4a",
   "metadata": {},
   "outputs": [],
   "source": [
    "import torch\n",
    "import torch.nn as nn\n",
    "import torch.optim as optim\n",
    "from torchvision import datasets, transforms\n",
    "from torch.utils.data import DataLoader"
   ]
  },
  {
   "cell_type": "code",
   "execution_count": 9,
   "id": "43eb21e4",
   "metadata": {},
   "outputs": [],
   "source": [
    "# Load MNIST\n",
    "transform = transforms.ToTensor()\n",
    "train_set = datasets.MNIST(root='./data', train=True, download=True, transform=transform)\n",
    "test_set = datasets.MNIST(root='./data', train=False, download=True, transform=transform)\n",
    "\n",
    "train_loader = DataLoader(train_set, batch_size=64, shuffle=True)"
   ]
  },
  {
   "cell_type": "code",
   "execution_count": 8,
   "id": "94ab2175",
   "metadata": {},
   "outputs": [],
   "source": [
    "# Simple CNN\n",
    "class DigitClassifier(nn.Module):\n",
    "    def __init__(self):\n",
    "        super().__init__()\n",
    "        self.net = nn.Sequential(\n",
    "            nn.Conv2d(1, 32, 3, 1), nn.ReLU(),\n",
    "            nn.Conv2d(32, 64, 3, 1), nn.ReLU(),\n",
    "            nn.MaxPool2d(2), nn.Dropout(0.25),\n",
    "            nn.Flatten(),\n",
    "            nn.Linear(9216, 128), nn.ReLU(),\n",
    "            nn.Dropout(0.5),\n",
    "            nn.Linear(128, 10) \n",
    "        )\n",
    "    \n",
    "    def forward(self, x):\n",
    "        return self.net(x)"
   ]
  },
  {
   "cell_type": "code",
   "execution_count": 7,
   "id": "a6dcb444",
   "metadata": {},
   "outputs": [
    {
     "ename": "NameError",
     "evalue": "name 'DigitClassifier' is not defined",
     "output_type": "error",
     "traceback": [
      "\u001b[1;31m---------------------------------------------------------------------------\u001b[0m",
      "\u001b[1;31mNameError\u001b[0m                                 Traceback (most recent call last)",
      "Cell \u001b[1;32mIn[7], line 2\u001b[0m\n\u001b[0;32m      1\u001b[0m \u001b[38;5;66;03m# Train loop\u001b[39;00m\n\u001b[1;32m----> 2\u001b[0m model \u001b[38;5;241m=\u001b[39m \u001b[43mDigitClassifier\u001b[49m()\n\u001b[0;32m      3\u001b[0m optimizer \u001b[38;5;241m=\u001b[39m optim\u001b[38;5;241m.\u001b[39mAdam(model\u001b[38;5;241m.\u001b[39mparameters())\n\u001b[0;32m      4\u001b[0m criterion \u001b[38;5;241m=\u001b[39m nn\u001b[38;5;241m.\u001b[39mCrossEntropyLoss()\n",
      "\u001b[1;31mNameError\u001b[0m: name 'DigitClassifier' is not defined"
     ]
    }
   ],
   "source": [
    "# Train loop\n",
    "model = DigitClassifier()\n",
    "optimizer = optim.Adam(model.parameters())\n",
    "criterion = nn.CrossEntropyLoss()\n",
    "\n",
    "for epoch in range(1,31):\n",
    "    model.train()\n",
    "    for images, labels in train_loader:\n",
    "        preds = model(images)\n",
    "        loss = criterion(preds, labels)\n",
    "        optimizer.zero_grad()\n",
    "        loss.backward()\n",
    "        optimizer.step()\n",
    "    print(f\"Epoch {epoch} done.\")"
   ]
  },
  {
   "cell_type": "code",
   "execution_count": 10,
   "id": "13062805",
   "metadata": {},
   "outputs": [
    {
     "ename": "NameError",
     "evalue": "name 'model' is not defined",
     "output_type": "error",
     "traceback": [
      "\u001b[1;31m---------------------------------------------------------------------------\u001b[0m",
      "\u001b[1;31mNameError\u001b[0m                                 Traceback (most recent call last)",
      "Cell \u001b[1;32mIn[10], line 2\u001b[0m\n\u001b[0;32m      1\u001b[0m \u001b[38;5;66;03m#Save the model\u001b[39;00m\n\u001b[1;32m----> 2\u001b[0m torch\u001b[38;5;241m.\u001b[39msave(\u001b[43mmodel\u001b[49m\u001b[38;5;241m.\u001b[39mstate_dict(), \u001b[38;5;124m'\u001b[39m\u001b[38;5;124mmnist_digit_classifier.pth\u001b[39m\u001b[38;5;124m'\u001b[39m)\n",
      "\u001b[1;31mNameError\u001b[0m: name 'model' is not defined"
     ]
    }
   ],
   "source": [
    "#Save the model\n",
    "torch.save(model.state_dict(), 'mnist_digit_classifier.pth')\n"
   ]
  },
  {
   "cell_type": "code",
   "execution_count": 5,
   "id": "ab0e9089",
   "metadata": {},
   "outputs": [],
   "source": [
    "from PIL import Image\n",
    "import torch\n",
    "import torchvision.transforms as transforms\n",
    "\n",
    "def predict_digit(image_path, model):\n",
    "    # Load the image\n",
    "    image = Image.open(image_path).convert(\"L\")  # Convert to grayscale\n",
    "    \n",
    "    # Preprocess the image\n",
    "    transform = transforms.Compose([\n",
    "        transforms.Resize((28, 28)),  \n",
    "        transforms.ToTensor(),       \n",
    "        transforms.Normalize((0.5,), (0.5,))\n",
    "    ])\n",
    "    image = transform(image).unsqueeze(0)  \n",
    "    \n",
    "    # Set the model to evaluation mode\n",
    "    model.eval()\n",
    "    \n",
    "    # Make the prediction\n",
    "    with torch.no_grad():\n",
    "        output = model(image)\n",
    "        _, predicted = torch.max(output, 1)  \n",
    "    \n",
    "    return predicted.item() \n",
    "\n"
   ]
  },
  {
   "cell_type": "code",
   "execution_count": 11,
   "id": "65be718a",
   "metadata": {},
   "outputs": [
    {
     "name": "stderr",
     "output_type": "stream",
     "text": [
      "C:\\Users\\sking\\AppData\\Local\\Temp\\ipykernel_5240\\1226766445.py:5: FutureWarning: You are using `torch.load` with `weights_only=False` (the current default value), which uses the default pickle module implicitly. It is possible to construct malicious pickle data which will execute arbitrary code during unpickling (See https://github.com/pytorch/pytorch/blob/main/SECURITY.md#untrusted-models for more details). In a future release, the default value for `weights_only` will be flipped to `True`. This limits the functions that could be executed during unpickling. Arbitrary objects will no longer be allowed to be loaded via this mode unless they are explicitly allowlisted by the user via `torch.serialization.add_safe_globals`. We recommend you start setting `weights_only=True` for any use case where you don't have full control of the loaded file. Please open an issue on GitHub for any issues related to this experimental feature.\n",
      "  model.load_state_dict(torch.load(\"mnist_digit_classifier.pth\"))\n"
     ]
    },
    {
     "name": "stdout",
     "output_type": "stream",
     "text": [
      "The model predicts the digit is: 3\n"
     ]
    },
    {
     "data": {
      "image/png": "[encoded data removed]",
      "text/plain": [
       "<Figure size 640x480 with 1 Axes>"
      ]
     },
     "metadata": {},
     "output_type": "display_data"
    }
   ],
   "source": [
    "\n",
    "import matplotlib.pyplot as plt\n",
    "# Example usage\n",
    "# Load the saved model\n",
    "model = DigitClassifier()\n",
    "model.load_state_dict(torch.load(\"mnist_digit_classifier.pth\"))\n",
    "model.eval() \n",
    "image_path = \"testSet/img_5.jpg\"  # Replace with the path to your image\n",
    "predicted_digit = predict_digit(image_path, model)\n",
    "plt.imshow(Image.open(image_path).convert(\"L\"), cmap='gray')\n",
    "print(f\"The model predicts the digit is: {predicted_digit}\")"
   ]
  },
  {
   "cell_type": "code",
   "execution_count": null,
   "id": "936604c3",
   "metadata": {},
   "outputs": [],
   "source": []
  },
  {
   "cell_type": "code",
   "execution_count": null,
   "id": "5ac5142b",
   "metadata": {},
   "outputs": [],
   "source": []
  },
  {
   "cell_type": "markdown",
   "id": "9175c0ab",
   "metadata": {},
   "source": [
    "# Draw numbers to Test"
   ]
  },
  {
   "cell_type": "code",
   "execution_count": 13,
   "id": "b414edac",
   "metadata": {},
   "outputs": [
    {
     "name": "stdout",
     "output_type": "stream",
     "text": [
      "Digit saved as drawn_digit.png\n",
      "The model predicts the digit is: 0\n"
     ]
    },
    {
     "data": {
      "image/png": "[encoded data removed]",
      "text/plain": [
       "<Figure size 400x400 with 1 Axes>"
      ]
     },
     "metadata": {},
     "output_type": "display_data"
    },
    {
     "name": "stdout",
     "output_type": "stream",
     "text": [
      "Canvas cleared\n",
      "Digit saved as drawn_digit.png\n",
      "The model predicts the digit is: 1\n"
     ]
    },
    {
     "data": {
      "image/png": "[encoded data removed]",
      "text/plain": [
       "<Figure size 400x400 with 1 Axes>"
      ]
     },
     "metadata": {},
     "output_type": "display_data"
    },
    {
     "name": "stdout",
     "output_type": "stream",
     "text": [
      "Canvas cleared\n",
      "Digit saved as drawn_digit.png\n",
      "The model predicts the digit is: 2\n"
     ]
    },
    {
     "data": {
      "image/png": "[encoded data removed]",
      "text/plain": [
       "<Figure size 400x400 with 1 Axes>"
      ]
     },
     "metadata": {},
     "output_type": "display_data"
    },
    {
     "name": "stdout",
     "output_type": "stream",
     "text": [
      "Drawing application closed\n",
      "Press 'c' to clear, 'p' to predict, 'q' to quit\n"
     ]
    }
   ],
   "source": [
    "import pygame\n",
    "import numpy as np\n",
    "import torch\n",
    "from PIL import Image\n",
    "import matplotlib.pyplot as plt\n",
    "import os\n",
    "import sys\n",
    "from io import BytesIO\n",
    "\n",
    "# Initialize Pygame\n",
    "pygame.init()\n",
    "\n",
    "# Constants\n",
    "WIDTH, HEIGHT = 280, 280\n",
    "CELL_SIZE = 10\n",
    "GRID_SIZE = WIDTH // CELL_SIZE\n",
    "WHITE = (255, 255, 255)\n",
    "BLACK = (0, 0, 0)\n",
    "GRAY = (200, 200, 200)\n",
    "\n",
    "# Create the display\n",
    "screen = pygame.display.set_mode((WIDTH, HEIGHT))\n",
    "pygame.display.set_caption(\"Draw a Digit\")\n",
    "\n",
    "# Initialize canvas as numpy array\n",
    "canvas = np.zeros((GRID_SIZE, GRID_SIZE), dtype=np.float32)\n",
    "\n",
    "def draw_grid():\n",
    "    screen.fill(WHITE)\n",
    "    for x in range(0, WIDTH, CELL_SIZE):\n",
    "        pygame.draw.line(screen, GRAY, (x, 0), (x, HEIGHT))\n",
    "    for y in range(0, HEIGHT, CELL_SIZE):\n",
    "        pygame.draw.line(screen, GRAY, (0, y), (WIDTH, y))\n",
    "\n",
    "def draw_pixels():\n",
    "    for i in range(GRID_SIZE):\n",
    "        for j in range(GRID_SIZE):\n",
    "            if canvas[i][j] > 0:\n",
    "                pygame.draw.rect(screen, BLACK, (j*CELL_SIZE, i*CELL_SIZE, CELL_SIZE, CELL_SIZE))\n",
    "\n",
    "def get_prediction():\n",
    "    # Convert canvas to PIL Image\n",
    "    surface_string = pygame.image.tostring(screen, 'RGB')\n",
    "    img = Image.frombytes('RGB', (WIDTH, HEIGHT), surface_string).convert('L')\n",
    "    img = img.resize((28, 28))\n",
    "    \n",
    "    # Save the drawn digit\n",
    "    img.save(\"drawn_digit.png\")\n",
    "    print(\"Digit saved as drawn_digit.png\")\n",
    "    \n",
    "    # Convert to tensor and predict\n",
    "    transform = transforms.Compose([\n",
    "        transforms.ToTensor(),\n",
    "        transforms.Normalize((0.5,), (0.5,))\n",
    "    ])\n",
    "    \n",
    "    img_tensor = transform(img).unsqueeze(0)\n",
    "    \n",
    "    with torch.no_grad():\n",
    "        output = model(img_tensor)\n",
    "        _, predicted = torch.max(output, 1)\n",
    "    \n",
    "    result = predicted.item()\n",
    "    print(f\"The model predicts the digit is: {result}\")\n",
    "    \n",
    "    # Display the image with matplotlib\n",
    "    plt.figure(figsize=(4, 4))\n",
    "    plt.imshow(img, cmap='gray')\n",
    "    plt.title(f\"Predicted: {result}\")\n",
    "    plt.axis('off')\n",
    "    plt.show()\n",
    "    \n",
    "    return result\n",
    "\n",
    "def run_drawing_app():\n",
    "    global canvas\n",
    "    \n",
    "    running = True\n",
    "    drawing = False\n",
    "    \n",
    "    while running:\n",
    "        for event in pygame.event.get():\n",
    "            if event.type == pygame.QUIT:\n",
    "                running = False\n",
    "                \n",
    "            elif event.type == pygame.MOUSEBUTTONDOWN:\n",
    "                drawing = True\n",
    "                \n",
    "            elif event.type == pygame.MOUSEBUTTONUP:\n",
    "                drawing = False\n",
    "                \n",
    "            elif event.type == pygame.MOUSEMOTION and drawing:\n",
    "                x, y = event.pos\n",
    "                grid_x, grid_y = x // CELL_SIZE, y // CELL_SIZE\n",
    "                \n",
    "                # Make sure we're within bounds\n",
    "                if 0 <= grid_x < GRID_SIZE and 0 <= grid_y < GRID_SIZE:\n",
    "                    # Draw a thicker line for better visibility\n",
    "                    for dx in range(-1, 2):\n",
    "                        for dy in range(-1, 2):\n",
    "                            nx, ny = grid_x + dx , grid_y +dy\n",
    "                            if 0 <= nx < GRID_SIZE and 0 <= ny < GRID_SIZE:\n",
    "                                canvas[ny][nx] = 1\n",
    "            \n",
    "            elif event.type == pygame.KEYDOWN:\n",
    "                if event.key == pygame.K_c:\n",
    "                    # Clear canvas\n",
    "                    canvas = np.zeros((GRID_SIZE, GRID_SIZE), dtype=np.float32)\n",
    "                    print(\"Canvas cleared\")\n",
    "                    \n",
    "                elif event.key == pygame.K_p:\n",
    "                    # Predict digit\n",
    "                    get_prediction()\n",
    "                    \n",
    "                elif event.key == pygame.K_q:\n",
    "                    # Quit\n",
    "                    running = False\n",
    "        \n",
    "        draw_grid()\n",
    "        draw_pixels()\n",
    "        pygame.display.flip()\n",
    "    \n",
    "    pygame.quit()\n",
    "    print(\"Drawing application closed\")\n",
    "    print(\"Press 'c' to clear, 'p' to predict, 'q' to quit\")\n",
    "\n",
    "# Run the application\n",
    "run_drawing_app()"
   ]
  }
 ],
 "metadata": {
  "kernelspec": {
   "display_name": "sujar-env",
   "language": "python",
   "name": "python3"
  },
  "language_info": {
   "codemirror_mode": {
    "name": "ipython",
    "version": 3
   },
   "file_extension": ".py",
   "mimetype": "text/x-python",
   "name": "python",
   "nbconvert_exporter": "python",
   "pygments_lexer": "ipython3",
   "version": "3.8.20"
  }
 },
 "nbformat": 4,
 "nbformat_minor": 5
}
